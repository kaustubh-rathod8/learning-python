{
 "cells": [
  {
   "cell_type": "markdown",
   "id": "63e0a82f",
   "metadata": {},
   "source": [
    "# Python Number Methods"
   ]
  },
  {
   "cell_type": "code",
   "execution_count": 1,
   "id": "cd5e8a9e",
   "metadata": {},
   "outputs": [
    {
     "data": {
      "text/plain": [
       "3"
      ]
     },
     "execution_count": 1,
     "metadata": {},
     "output_type": "execute_result"
    }
   ],
   "source": [
    "1+2"
   ]
  },
  {
   "cell_type": "markdown",
   "id": "0f781f33",
   "metadata": {},
   "source": [
    "# abs()"
   ]
  },
  {
   "cell_type": "code",
   "execution_count": 2,
   "id": "a20b89aa",
   "metadata": {},
   "outputs": [
    {
     "data": {
      "text/plain": [
       "10"
      ]
     },
     "execution_count": 2,
     "metadata": {},
     "output_type": "execute_result"
    }
   ],
   "source": [
    "abs(10)"
   ]
  },
  {
   "cell_type": "code",
   "execution_count": 3,
   "id": "be634b46",
   "metadata": {},
   "outputs": [
    {
     "data": {
      "text/plain": [
       "20"
      ]
     },
     "execution_count": 3,
     "metadata": {},
     "output_type": "execute_result"
    }
   ],
   "source": [
    "abs(-20)"
   ]
  },
  {
   "cell_type": "code",
   "execution_count": 4,
   "id": "3eb780a8",
   "metadata": {},
   "outputs": [
    {
     "data": {
      "text/plain": [
       "34.2"
      ]
     },
     "execution_count": 4,
     "metadata": {},
     "output_type": "execute_result"
    }
   ],
   "source": [
    "abs(34.20)"
   ]
  },
  {
   "cell_type": "code",
   "execution_count": 5,
   "id": "5e501123",
   "metadata": {},
   "outputs": [
    {
     "data": {
      "text/plain": [
       "55.02"
      ]
     },
     "execution_count": 5,
     "metadata": {},
     "output_type": "execute_result"
    }
   ],
   "source": [
    "abs(-55.02)"
   ]
  },
  {
   "cell_type": "markdown",
   "id": "438bb184",
   "metadata": {},
   "source": [
    "# ceil()"
   ]
  },
  {
   "cell_type": "code",
   "execution_count": 6,
   "id": "bbc6f39b",
   "metadata": {},
   "outputs": [],
   "source": [
    "import math"
   ]
  },
  {
   "cell_type": "code",
   "execution_count": 7,
   "id": "c2cb0ae5",
   "metadata": {},
   "outputs": [
    {
     "data": {
      "text/plain": [
       "44"
      ]
     },
     "execution_count": 7,
     "metadata": {},
     "output_type": "execute_result"
    }
   ],
   "source": [
    "math.ceil(43.67)"
   ]
  },
  {
   "cell_type": "code",
   "execution_count": 8,
   "id": "826e5d97",
   "metadata": {},
   "outputs": [
    {
     "data": {
      "text/plain": [
       "44"
      ]
     },
     "execution_count": 8,
     "metadata": {},
     "output_type": "execute_result"
    }
   ],
   "source": [
    "math.ceil(43.3)"
   ]
  },
  {
   "cell_type": "code",
   "execution_count": 9,
   "id": "f1613a56",
   "metadata": {},
   "outputs": [
    {
     "data": {
      "text/plain": [
       "43"
      ]
     },
     "execution_count": 9,
     "metadata": {},
     "output_type": "execute_result"
    }
   ],
   "source": [
    "math.ceil(42.1)"
   ]
  },
  {
   "cell_type": "code",
   "execution_count": 10,
   "id": "d410da4c",
   "metadata": {},
   "outputs": [
    {
     "data": {
      "text/plain": [
       "-44"
      ]
     },
     "execution_count": 10,
     "metadata": {},
     "output_type": "execute_result"
    }
   ],
   "source": [
    "math.ceil(-44.5)"
   ]
  },
  {
   "cell_type": "markdown",
   "id": "dfef984b",
   "metadata": {},
   "source": [
    "# floor()"
   ]
  },
  {
   "cell_type": "code",
   "execution_count": 11,
   "id": "6e9caf26",
   "metadata": {},
   "outputs": [
    {
     "data": {
      "text/plain": [
       "43"
      ]
     },
     "execution_count": 11,
     "metadata": {},
     "output_type": "execute_result"
    }
   ],
   "source": [
    "math.floor(43.1)"
   ]
  },
  {
   "cell_type": "code",
   "execution_count": 12,
   "id": "f555fa50",
   "metadata": {},
   "outputs": [
    {
     "data": {
      "text/plain": [
       "43"
      ]
     },
     "execution_count": 12,
     "metadata": {},
     "output_type": "execute_result"
    }
   ],
   "source": [
    "math.floor(43.9)"
   ]
  },
  {
   "cell_type": "code",
   "execution_count": 13,
   "id": "f3ec388c",
   "metadata": {},
   "outputs": [
    {
     "data": {
      "text/plain": [
       "-57"
      ]
     },
     "execution_count": 13,
     "metadata": {},
     "output_type": "execute_result"
    }
   ],
   "source": [
    "math.floor(-56.9)"
   ]
  },
  {
   "cell_type": "markdown",
   "id": "4d5b6601",
   "metadata": {},
   "source": [
    "# exp()"
   ]
  },
  {
   "cell_type": "code",
   "execution_count": 14,
   "id": "036e5c46",
   "metadata": {},
   "outputs": [
    {
     "data": {
      "text/plain": [
       "22026.465794806718"
      ]
     },
     "execution_count": 14,
     "metadata": {},
     "output_type": "execute_result"
    }
   ],
   "source": [
    "math.exp(10)"
   ]
  },
  {
   "cell_type": "code",
   "execution_count": 15,
   "id": "951ddf27",
   "metadata": {},
   "outputs": [
    {
     "data": {
      "text/plain": [
       "0.0009118819655545162"
      ]
     },
     "execution_count": 15,
     "metadata": {},
     "output_type": "execute_result"
    }
   ],
   "source": [
    "math.exp(-7)"
   ]
  },
  {
   "cell_type": "markdown",
   "id": "1b1f9195",
   "metadata": {},
   "source": [
    "# fabs()"
   ]
  },
  {
   "cell_type": "code",
   "execution_count": 16,
   "id": "54b90ba9",
   "metadata": {},
   "outputs": [
    {
     "data": {
      "text/plain": [
       "10.53"
      ]
     },
     "execution_count": 16,
     "metadata": {},
     "output_type": "execute_result"
    }
   ],
   "source": [
    "math.fabs(10.53)"
   ]
  },
  {
   "cell_type": "code",
   "execution_count": 18,
   "id": "142b2653",
   "metadata": {},
   "outputs": [
    {
     "data": {
      "text/plain": [
       "10.0"
      ]
     },
     "execution_count": 18,
     "metadata": {},
     "output_type": "execute_result"
    }
   ],
   "source": [
    "math.fabs(-10)"
   ]
  },
  {
   "cell_type": "markdown",
   "id": "3e33d3ea",
   "metadata": {},
   "source": [
    "# log()"
   ]
  },
  {
   "cell_type": "code",
   "execution_count": 19,
   "id": "38016fb0",
   "metadata": {},
   "outputs": [
    {
     "data": {
      "text/plain": [
       "2.995732273553991"
      ]
     },
     "execution_count": 19,
     "metadata": {},
     "output_type": "execute_result"
    }
   ],
   "source": [
    "math.log(20)"
   ]
  },
  {
   "cell_type": "code",
   "execution_count": 20,
   "id": "b51c00a8",
   "metadata": {},
   "outputs": [
    {
     "data": {
      "text/plain": [
       "4.182050142641207"
      ]
     },
     "execution_count": 20,
     "metadata": {},
     "output_type": "execute_result"
    }
   ],
   "source": [
    "math.log(65.5)"
   ]
  },
  {
   "cell_type": "code",
   "execution_count": 22,
   "id": "6a421ef5",
   "metadata": {},
   "outputs": [
    {
     "data": {
      "text/plain": [
       "1.6020599913279623"
      ]
     },
     "execution_count": 22,
     "metadata": {},
     "output_type": "execute_result"
    }
   ],
   "source": [
    "math.log10(40)"
   ]
  },
  {
   "cell_type": "markdown",
   "id": "8a7256e4",
   "metadata": {},
   "source": [
    "# max()"
   ]
  },
  {
   "cell_type": "code",
   "execution_count": 23,
   "id": "8b03a2e3",
   "metadata": {},
   "outputs": [
    {
     "data": {
      "text/plain": [
       "1200"
      ]
     },
     "execution_count": 23,
     "metadata": {},
     "output_type": "execute_result"
    }
   ],
   "source": [
    "max(10,12,4,1200,344)"
   ]
  },
  {
   "cell_type": "markdown",
   "id": "21374ef9",
   "metadata": {},
   "source": [
    "# min()"
   ]
  },
  {
   "cell_type": "code",
   "execution_count": 24,
   "id": "c67e51e8",
   "metadata": {},
   "outputs": [
    {
     "data": {
      "text/plain": [
       "1"
      ]
     },
     "execution_count": 24,
     "metadata": {},
     "output_type": "execute_result"
    }
   ],
   "source": [
    "min(2,8,33,1,9)"
   ]
  },
  {
   "cell_type": "markdown",
   "id": "0e65b51c",
   "metadata": {},
   "source": [
    "# pow()"
   ]
  },
  {
   "cell_type": "code",
   "execution_count": 25,
   "id": "ec9f1753",
   "metadata": {},
   "outputs": [
    {
     "data": {
      "text/plain": [
       "32.0"
      ]
     },
     "execution_count": 25,
     "metadata": {},
     "output_type": "execute_result"
    }
   ],
   "source": [
    "import math\n",
    "math.pow(2,5)"
   ]
  },
  {
   "cell_type": "code",
   "execution_count": 26,
   "id": "869e3d87",
   "metadata": {},
   "outputs": [
    {
     "data": {
      "text/plain": [
       "-0.00032"
      ]
     },
     "execution_count": 26,
     "metadata": {},
     "output_type": "execute_result"
    }
   ],
   "source": [
    "math.pow(-5,-5)"
   ]
  },
  {
   "cell_type": "markdown",
   "id": "e43b4ddb",
   "metadata": {},
   "source": [
    "# sqrt()"
   ]
  },
  {
   "cell_type": "code",
   "execution_count": 27,
   "id": "c9361c75",
   "metadata": {},
   "outputs": [
    {
     "data": {
      "text/plain": [
       "4.0"
      ]
     },
     "execution_count": 27,
     "metadata": {},
     "output_type": "execute_result"
    }
   ],
   "source": [
    "math.sqrt(16)"
   ]
  },
  {
   "cell_type": "code",
   "execution_count": 28,
   "id": "766a6f70",
   "metadata": {},
   "outputs": [
    {
     "data": {
      "text/plain": [
       "20.0"
      ]
     },
     "execution_count": 28,
     "metadata": {},
     "output_type": "execute_result"
    }
   ],
   "source": [
    "math.sqrt(400)"
   ]
  },
  {
   "cell_type": "code",
   "execution_count": 29,
   "id": "30a8bfea",
   "metadata": {},
   "outputs": [
    {
     "data": {
      "text/plain": [
       "15.905973720586866"
      ]
     },
     "execution_count": 29,
     "metadata": {},
     "output_type": "execute_result"
    }
   ],
   "source": [
    "math.sqrt(253)"
   ]
  },
  {
   "cell_type": "markdown",
   "id": "b873c598",
   "metadata": {},
   "source": [
    "# Trigonometric Functions"
   ]
  },
  {
   "cell_type": "code",
   "execution_count": 30,
   "id": "cdda0ebf",
   "metadata": {},
   "outputs": [
    {
     "data": {
      "text/plain": [
       "0.0"
      ]
     },
     "execution_count": 30,
     "metadata": {},
     "output_type": "execute_result"
    }
   ],
   "source": [
    "math.sin(0)"
   ]
  },
  {
   "cell_type": "code",
   "execution_count": 31,
   "id": "cbeac576",
   "metadata": {},
   "outputs": [
    {
     "data": {
      "text/plain": [
       "-0.4480736161291702"
      ]
     },
     "execution_count": 31,
     "metadata": {},
     "output_type": "execute_result"
    }
   ],
   "source": [
    "math.cos(90)"
   ]
  },
  {
   "cell_type": "code",
   "execution_count": 32,
   "id": "8b0491d1",
   "metadata": {},
   "outputs": [
    {
     "data": {
      "text/plain": [
       "1.6197751905438615"
      ]
     },
     "execution_count": 32,
     "metadata": {},
     "output_type": "execute_result"
    }
   ],
   "source": [
    "math.tan(45)"
   ]
  },
  {
   "cell_type": "code",
   "execution_count": 33,
   "id": "20e793f2",
   "metadata": {},
   "outputs": [
    {
     "data": {
      "text/plain": [
       "-1.995200412208242"
      ]
     },
     "execution_count": 33,
     "metadata": {},
     "output_type": "execute_result"
    }
   ],
   "source": [
    "math.tan(90)"
   ]
  },
  {
   "cell_type": "markdown",
   "id": "f4fe380e",
   "metadata": {},
   "source": [
    "# hypot()"
   ]
  },
  {
   "cell_type": "code",
   "execution_count": 34,
   "id": "53fa312f",
   "metadata": {},
   "outputs": [
    {
     "data": {
      "text/plain": [
       "3.605551275463989"
      ]
     },
     "execution_count": 34,
     "metadata": {},
     "output_type": "execute_result"
    }
   ],
   "source": [
    "math.hypot(2,3)"
   ]
  },
  {
   "cell_type": "code",
   "execution_count": null,
   "id": "87bc1339",
   "metadata": {},
   "outputs": [],
   "source": []
  }
 ],
 "metadata": {
  "kernelspec": {
   "display_name": "Python 3 (ipykernel)",
   "language": "python",
   "name": "python3"
  },
  "language_info": {
   "codemirror_mode": {
    "name": "ipython",
    "version": 3
   },
   "file_extension": ".py",
   "mimetype": "text/x-python",
   "name": "python",
   "nbconvert_exporter": "python",
   "pygments_lexer": "ipython3",
   "version": "3.10.8"
  }
 },
 "nbformat": 4,
 "nbformat_minor": 5
}
