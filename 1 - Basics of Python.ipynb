{
 "cells": [
  {
   "cell_type": "markdown",
   "id": "1401654f",
   "metadata": {},
   "source": [
    "# Basics of Python"
   ]
  },
  {
   "cell_type": "code",
   "execution_count": 1,
   "id": "9b576803",
   "metadata": {},
   "outputs": [
    {
     "name": "stdout",
     "output_type": "stream",
     "text": [
      "Hello Kaustubh\n"
     ]
    }
   ],
   "source": [
    "# Print Statement\n",
    "\n",
    "print(\"Hello Kaustubh\")"
   ]
  },
  {
   "cell_type": "code",
   "execution_count": 2,
   "id": "dc8b40c7",
   "metadata": {},
   "outputs": [
    {
     "name": "stdout",
     "output_type": "stream",
     "text": [
      "Hello\n"
     ]
    }
   ],
   "source": [
    "# Single Line and Multi-Line Comments\n",
    "\n",
    "'''\n",
    "Welcome to Mumbai\n",
    "'''\n",
    "print(\"Hello\")"
   ]
  },
  {
   "cell_type": "code",
   "execution_count": 5,
   "id": "7cfcfe89",
   "metadata": {},
   "outputs": [
    {
     "data": {
      "text/plain": [
       "str"
      ]
     },
     "execution_count": 5,
     "metadata": {},
     "output_type": "execute_result"
    }
   ],
   "source": [
    "# Variable Declaration\n",
    "\n",
    "a=10\n",
    "type(a)\n",
    "\n",
    "b=\"kaustubh\"\n",
    "type(b)"
   ]
  },
  {
   "cell_type": "code",
   "execution_count": 6,
   "id": "9c6ac2b4",
   "metadata": {},
   "outputs": [
    {
     "data": {
      "text/plain": [
       "int"
      ]
     },
     "execution_count": 6,
     "metadata": {},
     "output_type": "execute_result"
    }
   ],
   "source": [
    "## Integers\n",
    "\n",
    "a=10\n",
    "type(a)"
   ]
  },
  {
   "cell_type": "code",
   "execution_count": 7,
   "id": "d4a024b1",
   "metadata": {},
   "outputs": [
    {
     "data": {
      "text/plain": [
       "30"
      ]
     },
     "execution_count": 7,
     "metadata": {},
     "output_type": "execute_result"
    }
   ],
   "source": [
    "a+20"
   ]
  },
  {
   "cell_type": "code",
   "execution_count": 8,
   "id": "76e38c8a",
   "metadata": {},
   "outputs": [
    {
     "data": {
      "text/plain": [
       "100"
      ]
     },
     "execution_count": 8,
     "metadata": {},
     "output_type": "execute_result"
    }
   ],
   "source": [
    "a*10"
   ]
  },
  {
   "cell_type": "code",
   "execution_count": 9,
   "id": "4a2a4c64",
   "metadata": {},
   "outputs": [
    {
     "data": {
      "text/plain": [
       "1.0"
      ]
     },
     "execution_count": 9,
     "metadata": {},
     "output_type": "execute_result"
    }
   ],
   "source": [
    "a/10\n"
   ]
  },
  {
   "cell_type": "code",
   "execution_count": 10,
   "id": "403d17db",
   "metadata": {},
   "outputs": [
    {
     "data": {
      "text/plain": [
       "0"
      ]
     },
     "execution_count": 10,
     "metadata": {},
     "output_type": "execute_result"
    }
   ],
   "source": [
    "a%10"
   ]
  },
  {
   "cell_type": "code",
   "execution_count": 11,
   "id": "182d719a",
   "metadata": {},
   "outputs": [
    {
     "data": {
      "text/plain": [
       "float"
      ]
     },
     "execution_count": 11,
     "metadata": {},
     "output_type": "execute_result"
    }
   ],
   "source": [
    "## Floating Variable\n",
    "\n",
    "a=190.5\n",
    "type(a)"
   ]
  },
  {
   "cell_type": "code",
   "execution_count": 12,
   "id": "bb30a8e7",
   "metadata": {},
   "outputs": [
    {
     "data": {
      "text/plain": [
       "190"
      ]
     },
     "execution_count": 12,
     "metadata": {},
     "output_type": "execute_result"
    }
   ],
   "source": [
    "int(a)"
   ]
  },
  {
   "cell_type": "code",
   "execution_count": 13,
   "id": "8faef17c",
   "metadata": {},
   "outputs": [
    {
     "data": {
      "text/plain": [
       "bool"
      ]
     },
     "execution_count": 13,
     "metadata": {},
     "output_type": "execute_result"
    }
   ],
   "source": [
    "## Boolean\n",
    "\n",
    "a1=True\n",
    "b1=False\n",
    "type(a1)"
   ]
  },
  {
   "cell_type": "code",
   "execution_count": 14,
   "id": "ba0cb7ca",
   "metadata": {},
   "outputs": [
    {
     "data": {
      "text/plain": [
       "True"
      ]
     },
     "execution_count": 14,
     "metadata": {},
     "output_type": "execute_result"
    }
   ],
   "source": [
    "a1|b1"
   ]
  },
  {
   "cell_type": "code",
   "execution_count": 15,
   "id": "a08e22df",
   "metadata": {},
   "outputs": [
    {
     "data": {
      "text/plain": [
       "False"
      ]
     },
     "execution_count": 15,
     "metadata": {},
     "output_type": "execute_result"
    }
   ],
   "source": [
    "a1&b1"
   ]
  },
  {
   "cell_type": "code",
   "execution_count": 16,
   "id": "36bf4309",
   "metadata": {},
   "outputs": [
    {
     "name": "stdout",
     "output_type": "stream",
     "text": [
      "Kaustubh\n",
      "<class 'str'>\n"
     ]
    }
   ],
   "source": [
    "## Strings\n",
    "\n",
    "name1=\"Kaustubh\"\n",
    "\n",
    "print(name1)\n",
    "print(type(name1))"
   ]
  },
  {
   "cell_type": "code",
   "execution_count": 18,
   "id": "3124af9b",
   "metadata": {},
   "outputs": [
    {
     "data": {
      "text/plain": [
       "'KaustubhRathod'"
      ]
     },
     "execution_count": 18,
     "metadata": {},
     "output_type": "execute_result"
    }
   ],
   "source": [
    "# Concat Strings\n",
    "name1+\"Rathod\""
   ]
  },
  {
   "cell_type": "code",
   "execution_count": 19,
   "id": "c7e71186",
   "metadata": {},
   "outputs": [
    {
     "data": {
      "text/plain": [
       "'Kaustubh1'"
      ]
     },
     "execution_count": 19,
     "metadata": {},
     "output_type": "execute_result"
    }
   ],
   "source": [
    "name1+ str(1)"
   ]
  },
  {
   "cell_type": "code",
   "execution_count": 20,
   "id": "2c2b271a",
   "metadata": {},
   "outputs": [
    {
     "data": {
      "text/plain": [
       "(1-2.3j)"
      ]
     },
     "execution_count": 20,
     "metadata": {},
     "output_type": "execute_result"
    }
   ],
   "source": [
    "## Complex Numbers\n",
    "\n",
    "j=1.0-2.3j\n",
    "j"
   ]
  },
  {
   "cell_type": "code",
   "execution_count": 21,
   "id": "99e1992a",
   "metadata": {},
   "outputs": [
    {
     "name": "stdout",
     "output_type": "stream",
     "text": [
      "1.0 -2.3\n"
     ]
    }
   ],
   "source": [
    "print(j.real,j.imag)"
   ]
  },
  {
   "cell_type": "code",
   "execution_count": 22,
   "id": "52bf5ad4",
   "metadata": {},
   "outputs": [],
   "source": [
    "## Dynamic Typing\n",
    "\n",
    "a=10\n",
    "a=\"Kaustubh\""
   ]
  },
  {
   "cell_type": "code",
   "execution_count": 23,
   "id": "8b8e562d",
   "metadata": {},
   "outputs": [
    {
     "data": {
      "text/plain": [
       "'Kaustubh1'"
      ]
     },
     "execution_count": 23,
     "metadata": {},
     "output_type": "execute_result"
    }
   ],
   "source": [
    "## Strong Typing\n",
    "\n",
    "a=\"Kaustubh\"\n",
    "a+\"1\""
   ]
  },
  {
   "cell_type": "code",
   "execution_count": 25,
   "id": "d4b35e3e",
   "metadata": {},
   "outputs": [
    {
     "name": "stdout",
     "output_type": "stream",
     "text": [
      "The value is - 100\n"
     ]
    }
   ],
   "source": [
    "## String Formatting\n",
    "\n",
    "a=100\n",
    "print(\"The value is -\",a)"
   ]
  },
  {
   "cell_type": "code",
   "execution_count": 27,
   "id": "07794eb5",
   "metadata": {},
   "outputs": [
    {
     "name": "stdout",
     "output_type": "stream",
     "text": [
      "The first name is kaustubh and last name is Rathod\n"
     ]
    }
   ],
   "source": [
    "first_name=\"kaustubh\"\n",
    "last_name=\"Rathod\"\n",
    "print(\"The first name is {} and last name is {}\".format(first_name,last_name))"
   ]
  },
  {
   "cell_type": "code",
   "execution_count": 28,
   "id": "991d2322",
   "metadata": {},
   "outputs": [
    {
     "name": "stdout",
     "output_type": "stream",
     "text": [
      "Enter the number A12\n",
      "Enter the number B11\n",
      "23\n"
     ]
    }
   ],
   "source": [
    "## Input Type\n",
    "\n",
    "a = input(\"Enter the number A\")\n",
    "b = input(\"Enter the number B\")\n",
    "print(int(a)+int(b))"
   ]
  },
  {
   "cell_type": "code",
   "execution_count": null,
   "id": "664e6315",
   "metadata": {},
   "outputs": [],
   "source": []
  }
 ],
 "metadata": {
  "kernelspec": {
   "display_name": "Python 3 (ipykernel)",
   "language": "python",
   "name": "python3"
  },
  "language_info": {
   "codemirror_mode": {
    "name": "ipython",
    "version": 3
   },
   "file_extension": ".py",
   "mimetype": "text/x-python",
   "name": "python",
   "nbconvert_exporter": "python",
   "pygments_lexer": "ipython3",
   "version": "3.10.8"
  }
 },
 "nbformat": 4,
 "nbformat_minor": 5
}
