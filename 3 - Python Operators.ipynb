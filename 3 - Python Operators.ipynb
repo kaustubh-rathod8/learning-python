{
 "cells": [
  {
   "cell_type": "markdown",
   "id": "eb39ff6a",
   "metadata": {},
   "source": [
    "# Logical Operators\n"
   ]
  },
  {
   "cell_type": "code",
   "execution_count": 1,
   "id": "cef7e98a",
   "metadata": {},
   "outputs": [
    {
     "data": {
      "text/plain": [
       "bool"
      ]
     },
     "execution_count": 1,
     "metadata": {},
     "output_type": "execute_result"
    }
   ],
   "source": [
    "type(False)"
   ]
  },
  {
   "cell_type": "code",
   "execution_count": 2,
   "id": "81caa740",
   "metadata": {},
   "outputs": [
    {
     "data": {
      "text/plain": [
       "True"
      ]
     },
     "execution_count": 2,
     "metadata": {},
     "output_type": "execute_result"
    }
   ],
   "source": [
    "bool(1)"
   ]
  },
  {
   "cell_type": "code",
   "execution_count": 3,
   "id": "ba538b75",
   "metadata": {},
   "outputs": [
    {
     "name": "stdout",
     "output_type": "stream",
     "text": [
      "Enter the age: 12\n",
      "Successful Execution\n"
     ]
    }
   ],
   "source": [
    "age=int(input(\"Enter the age: \"))\n",
    "if age<18 or age>=35:\n",
    "    print(\"Successful Execution\")"
   ]
  },
  {
   "cell_type": "code",
   "execution_count": 4,
   "id": "caa570e7",
   "metadata": {},
   "outputs": [
    {
     "data": {
      "text/plain": [
       "True"
      ]
     },
     "execution_count": 4,
     "metadata": {},
     "output_type": "execute_result"
    }
   ],
   "source": [
    "## Equality Operators\n",
    "\n",
    "a=\"Kaustubh\"\n",
    "b=\"Kaustubh\"\n",
    "\n",
    "a==b"
   ]
  },
  {
   "cell_type": "code",
   "execution_count": 5,
   "id": "db3da995",
   "metadata": {},
   "outputs": [
    {
     "name": "stdout",
     "output_type": "stream",
     "text": [
      "Enter the age18\n",
      "You are teenager\n"
     ]
    }
   ],
   "source": [
    "age=int(input(\"Enter the age\"))\n",
    "\n",
    "if age==18:\n",
    "    print(\"You are teenager\")"
   ]
  },
  {
   "cell_type": "code",
   "execution_count": 6,
   "id": "d4eaadb6",
   "metadata": {},
   "outputs": [
    {
     "name": "stdout",
     "output_type": "stream",
     "text": [
      "4354890864\n",
      "4354890864\n"
     ]
    }
   ],
   "source": [
    "a=\"Kaustubh\"\n",
    "b=\"Kaustubh\"\n",
    "\n",
    "print(id(a))\n",
    "print(id(b))"
   ]
  },
  {
   "cell_type": "code",
   "execution_count": 7,
   "id": "f36a8c73",
   "metadata": {},
   "outputs": [
    {
     "data": {
      "text/plain": [
       "True"
      ]
     },
     "execution_count": 7,
     "metadata": {},
     "output_type": "execute_result"
    }
   ],
   "source": [
    "a is b\n"
   ]
  },
  {
   "cell_type": "code",
   "execution_count": 8,
   "id": "334777a7",
   "metadata": {},
   "outputs": [
    {
     "name": "stdout",
     "output_type": "stream",
     "text": [
      "4359490112\n",
      "4359736768\n"
     ]
    }
   ],
   "source": [
    "lst=[1,2,3]\n",
    "lst1=[1,2,3]\n",
    "print(id(lst))\n",
    "print(id(lst1))"
   ]
  },
  {
   "cell_type": "code",
   "execution_count": 11,
   "id": "ef407bfb",
   "metadata": {},
   "outputs": [
    {
     "data": {
      "text/plain": [
       "True"
      ]
     },
     "execution_count": 11,
     "metadata": {},
     "output_type": "execute_result"
    }
   ],
   "source": [
    "lst==lst1\n"
   ]
  },
  {
   "cell_type": "code",
   "execution_count": 10,
   "id": "dbb506d8",
   "metadata": {},
   "outputs": [
    {
     "data": {
      "text/plain": [
       "False"
      ]
     },
     "execution_count": 10,
     "metadata": {},
     "output_type": "execute_result"
    }
   ],
   "source": [
    "lst is lst1"
   ]
  },
  {
   "cell_type": "code",
   "execution_count": 12,
   "id": "4e3d6129",
   "metadata": {},
   "outputs": [
    {
     "data": {
      "text/plain": [
       "True"
      ]
     },
     "execution_count": 12,
     "metadata": {},
     "output_type": "execute_result"
    }
   ],
   "source": [
    "lst is not lst1"
   ]
  },
  {
   "cell_type": "code",
   "execution_count": 13,
   "id": "67de4724",
   "metadata": {},
   "outputs": [
    {
     "data": {
      "text/plain": [
       "True"
      ]
     },
     "execution_count": 13,
     "metadata": {},
     "output_type": "execute_result"
    }
   ],
   "source": [
    "\"Kaustubh\" != \"Kaustubh1\""
   ]
  },
  {
   "cell_type": "code",
   "execution_count": 15,
   "id": "00219104",
   "metadata": {},
   "outputs": [
    {
     "name": "stdout",
     "output_type": "stream",
     "text": [
      "Enter the marks52\n",
      "Pass\n",
      "First\n"
     ]
    }
   ],
   "source": [
    "## Comparison Operator 2\n",
    "\n",
    "marks=float(input(\"Enter the marks\"))\n",
    "\n",
    "if marks>=35:\n",
    "    print(\"Pass\")\n",
    "    if marks>=50 and marks <=70:\n",
    "        print(\"First\")\n",
    "elif marks<35:\n",
    "    print(\"Fail\")"
   ]
  },
  {
   "cell_type": "markdown",
   "id": "06320b51",
   "metadata": {},
   "source": [
    "# Arithmetic Operators"
   ]
  },
  {
   "cell_type": "code",
   "execution_count": 16,
   "id": "54795f24",
   "metadata": {},
   "outputs": [
    {
     "data": {
      "text/plain": [
       "72"
      ]
     },
     "execution_count": 16,
     "metadata": {},
     "output_type": "execute_result"
    }
   ],
   "source": [
    "48+24"
   ]
  },
  {
   "cell_type": "code",
   "execution_count": 17,
   "id": "5c9a93e0",
   "metadata": {},
   "outputs": [
    {
     "data": {
      "text/plain": [
       "24"
      ]
     },
     "execution_count": 17,
     "metadata": {},
     "output_type": "execute_result"
    }
   ],
   "source": [
    "48-24"
   ]
  },
  {
   "cell_type": "code",
   "execution_count": 18,
   "id": "26d8898c",
   "metadata": {},
   "outputs": [
    {
     "data": {
      "text/plain": [
       "1152"
      ]
     },
     "execution_count": 18,
     "metadata": {},
     "output_type": "execute_result"
    }
   ],
   "source": [
    "48*24"
   ]
  },
  {
   "cell_type": "code",
   "execution_count": 19,
   "id": "9de39133",
   "metadata": {},
   "outputs": [
    {
     "data": {
      "text/plain": [
       "12.0"
      ]
     },
     "execution_count": 19,
     "metadata": {},
     "output_type": "execute_result"
    }
   ],
   "source": [
    "48/4"
   ]
  },
  {
   "cell_type": "code",
   "execution_count": 20,
   "id": "43d7db2c",
   "metadata": {},
   "outputs": [
    {
     "data": {
      "text/plain": [
       "9"
      ]
     },
     "execution_count": 20,
     "metadata": {},
     "output_type": "execute_result"
    }
   ],
   "source": [
    "48//5"
   ]
  },
  {
   "cell_type": "code",
   "execution_count": 21,
   "id": "aaa841b1",
   "metadata": {},
   "outputs": [
    {
     "data": {
      "text/plain": [
       "3"
      ]
     },
     "execution_count": 21,
     "metadata": {},
     "output_type": "execute_result"
    }
   ],
   "source": [
    "48%5"
   ]
  },
  {
   "cell_type": "code",
   "execution_count": null,
   "id": "2e346b33",
   "metadata": {},
   "outputs": [],
   "source": []
  }
 ],
 "metadata": {
  "kernelspec": {
   "display_name": "Python 3 (ipykernel)",
   "language": "python",
   "name": "python3"
  },
  "language_info": {
   "codemirror_mode": {
    "name": "ipython",
    "version": 3
   },
   "file_extension": ".py",
   "mimetype": "text/x-python",
   "name": "python",
   "nbconvert_exporter": "python",
   "pygments_lexer": "ipython3",
   "version": "3.10.8"
  }
 },
 "nbformat": 4,
 "nbformat_minor": 5
}
